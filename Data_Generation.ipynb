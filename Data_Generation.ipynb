{
  "nbformat": 4,
  "nbformat_minor": 0,
  "metadata": {
    "colab": {
      "provenance": []
    },
    "kernelspec": {
      "name": "python3",
      "display_name": "Python 3"
    },
    "language_info": {
      "name": "python"
    }
  },
  "cells": [
    {
      "cell_type": "code",
      "source": [
        "import re\n",
        "import sys\n",
        "import random\n",
        "from collections import defaultdict"
      ],
      "metadata": {
        "id": "2Az8P4lkOq7e"
      },
      "execution_count": 1,
      "outputs": []
    },
    {
      "cell_type": "code",
      "source": [
        "def to_basic_coord_tag_words(x, y, grid, k):\n",
        "    \"\"\"\n",
        "    Return string of 0-padded x and y coordinates separated by a comma, followed\n",
        "    by a numeric tag k+n where k is some constant, and n is defined such that\n",
        "    the symbol S at grid[(x,y)] is the nth consecutive symbol in the\n",
        "    alphanumeric string that S appears in. (n is 0-based).\n",
        "\n",
        "    :param int x: x-coordinate\n",
        "    :param int y: y-coordinate\n",
        "    :param defaultdict grid: mapping from coords to the symbols located at them\n",
        "    :param int k: any constant\n",
        "    \"\"\"\n",
        "    count = 0\n",
        "    i = x\n",
        "    while True:\n",
        "        i -= 1\n",
        "        if i >= 0 and re.fullmatch(r'[A-Za-z0-9]', grid[(i, y)]):\n",
        "            count += 1\n",
        "        else:\n",
        "            break\n",
        "    return f'{x:02d},{y:02d}:{k+count}'\n",
        "\n",
        "def to_basic_coord_tag_words_prefix_encoding(x, y, grid):\n",
        "    \"\"\"\n",
        "    Return string of 0-padded x and y coordinates separated by a comma, followed\n",
        "    by a numeric tag 201+n where n is defined such that the symbol S at\n",
        "    grid[(x,y)] is the nth consecutive symbol in the alphanumeric string that S\n",
        "    appears in. (n is 0-based). This allows the numeric tags to be represented\n",
        "    by single bytepair encoding tokens which differ from the tokens used to\n",
        "    express x and y.\n",
        "\n",
        "    :param int x: x-coordinate\n",
        "    :param int y: y-coordinate\n",
        "    :param defaultdict grid: mapping from coords to the symbols located at them\n",
        "    \"\"\"\n",
        "    return to_basic_coord_tag_words(x, y, grid, 201)"
      ],
      "metadata": {
        "id": "8yF_SoMcPxew"
      },
      "execution_count": 2,
      "outputs": []
    },
    {
      "cell_type": "code",
      "source": [
        "def spacify(x):\n",
        "    \"\"\"\n",
        "    Given a number or string, return a string that contains all of the\n",
        "    digits/characters of the original, but separated by spaces. The result\n",
        "    neither begins nor ends with a space.\n",
        "    \"\"\"\n",
        "    s = str(x)\n",
        "    out_string = ''\n",
        "    for char in s:\n",
        "        out_string += char + ' '\n",
        "    return out_string.strip()"
      ],
      "metadata": {
        "id": "3dOxJ1sDQfWk"
      },
      "execution_count": 3,
      "outputs": []
    },
    {
      "cell_type": "code",
      "source": [
        "def look_at(grid, x, y):\n",
        "    \"\"\"\n",
        "    Return the part of a 'look' action string corresponding to 'looking at' a\n",
        "    grid coordinate (x, y). Specifically: a string consisting of a space,\n",
        "    followed by a representation of the coordinate, followed by the symbol\n",
        "    currently located there.\n",
        "\n",
        "    :param int x: x-coordinate\n",
        "    :param int y: y-coordinate\n",
        "    :param defaultdict grid: mapping from coords to the symbols located at them\n",
        "    \"\"\"\n",
        "    return f' {to_basic_coord_tag_words_prefix_encoding(x, y, grid)} {grid[(x, y)]}'"
      ],
      "metadata": {
        "id": "uBF3QBhNQjex"
      },
      "execution_count": 4,
      "outputs": []
    },
    {
      "cell_type": "code",
      "source": [
        "def register(text, grid, x, y, char):\n",
        "    \"\"\"\n",
        "    Write a particular character to a grid location.\n",
        "\n",
        "    Return a 2-tuple such that the first element is a space, followed by a\n",
        "    representation of the coordinate, followed by new symbol located there; the\n",
        "    second element is the grid itself. This is not strictly necessary to return,\n",
        "    but reminds us that this function modifies the grid.\n",
        "\n",
        "    :param str text: action string that we want to append the write action onto\n",
        "    :param defaultdict grid: mapping from coords to the symbols located at them\n",
        "    :param int x: x-coordinate\n",
        "    :param int y: y-coordinate\n",
        "    :param str char: character to write\n",
        "    \"\"\"\n",
        "    text += f' {to_basic_coord_tag_words_prefix_encoding(x, y, grid)} {char}'\n",
        "    grid[(x, y)] = char\n",
        "    return (text, grid)"
      ],
      "metadata": {
        "id": "ZV57UL6zQqkZ"
      },
      "execution_count": 5,
      "outputs": []
    },
    {
      "cell_type": "code",
      "source": [
        "def clean_position_ids(s):\n",
        "    \"\"\" Return a version of `s` with the position ids erased. \"\"\"\n",
        "    return re.sub(r' \\d\\d\\d', '', ' ' + s).strip()"
      ],
      "metadata": {
        "id": "52xU-haX8r5S"
      },
      "execution_count": 6,
      "outputs": []
    },
    {
      "cell_type": "code",
      "source": [
        "def generate_instruction(first, second):\n",
        "    \"\"\" Generate an elaborate instruction for addition.\n",
        "    :param int first: the first addend\n",
        "    :param int second: the second addend\n",
        "    \"\"\"\n",
        "\n",
        "    grid = defaultdict(lambda:'_')\n",
        "    ans = first + second\n",
        "    first, second = str(first), str(second)\n",
        "    max_len = max(len(first), len(second))  \n",
        "\n",
        "    x = 70\n",
        "    y = 1\n",
        "\n",
        "    text = 'write'\n",
        "\n",
        "    # Write the first addend\n",
        "    for c in first[::-1]:\n",
        "        x += 1\n",
        "        text, grid = register(text, grid, x, y, c)\n",
        "\n",
        "    # Reset the x coordinate\n",
        "    x = 70\n",
        "    y += 1\n",
        "\n",
        "    text += f' {{ {len(first)} digits }}'\n",
        "    text += f' {{ add }}'\n",
        "\n",
        "    carry_the_1 = False \n",
        "\n",
        "    # Write the second addend\n",
        "    for c in second[::-1]:\n",
        "        x += 1\n",
        "        text, grid = register(text, grid, x, y, c)\n",
        "\n",
        "    text += f' {{ {len(second)} digits }}'\n",
        "\n",
        "    # Next, solve the addition problem\n",
        "    x = 71\n",
        "\n",
        "    for i in range(max_len + 1):  \n",
        "        y -= 1\n",
        "        value1 = grid[(x, y)]\n",
        "        look1 = look_at(grid, x, y)\n",
        "        y += 1\n",
        "        look2 = look_at(grid, x, y)\n",
        "        value2 = grid[(x, y)]\n",
        "        text += ' look' + look1 + look2\n",
        "        if value1 == '_' and value2 == '_':\n",
        "            break\n",
        "\n",
        "        value1 = int(value1) if value1.isdigit() else 0\n",
        "        value2 = int(value2) if value2.isdigit() else 0\n",
        "        value_sum = value1 + value2\n",
        "\n",
        "        text += f' {{{look1}' + \\\n",
        "                    f' +{look2} = {spacify(value1 + value2)} }}'\n",
        "        if carry_the_1:\n",
        "            text += f' {{ {spacify(value1 + value2)} + 1 = {spacify(value1 + value2 + 1)} }}'\n",
        "            value_sum += 1\n",
        "\n",
        "        y += 1\n",
        "        text += ' write'\n",
        "        text, grid = register(text, grid, x, y, str(value_sum % 10))\n",
        "\n",
        "        if (value_sum >= 10):\n",
        "            carry_the_1 = True\n",
        "            text += ' { carry the 1 }'\n",
        "        else:\n",
        "            carry_the_1 = False\n",
        "        x += 1\n",
        "        y -= 1\n",
        "\n",
        "    text += ' { last }'\n",
        "\n",
        "    # We have now observed that we are at the edge of the addition problem\n",
        "    # -- having observed _ both in the first and the second position -- and it is time to wrap up\n",
        "    if carry_the_1:\n",
        "        text += ' { 0 + 0 = 0 } { 0 + 1 = 1 }'\n",
        "        y += 1\n",
        "        text += ' write'\n",
        "        text, grid = register(text, grid, x, y, '1')\n",
        "    else:\n",
        "        text += ' { 0 + 0 = 0 }'\n",
        "        y += 1\n",
        "        text += ' write'\n",
        "        text, grid = register(text, grid, x, y, '0')\n",
        "\n",
        "    text += ' { read the answer } look'\n",
        "    y = 3\n",
        "    x = 71 + max_len\n",
        "\n",
        "    for i in range(max_len + 1):\n",
        "        \n",
        "        value = grid[(x, y)]\n",
        "        look = look_at(grid, x, y)\n",
        "        text += look\n",
        "        x -= 1\n",
        "\n",
        "    text += f' {{ result is {convert_number(str(ans).zfill(max_len + 1))} }}'\n",
        "\n",
        "    return text"
      ],
      "metadata": {
        "id": "vD4y2KUOH_3x"
      },
      "execution_count": 7,
      "outputs": []
    },
    {
      "cell_type": "code",
      "source": [
        "def convert_number(number):\n",
        "    \"\"\" Convert a number into a string with positional encoding\"\"\"\n",
        "\n",
        "    number = str(number)\n",
        "\n",
        "    output = []\n",
        "    len_number = len(number) - 1\n",
        "\n",
        "    for i, digit in enumerate(number):\n",
        "        output.append(str(201 + (len_number - i)))\n",
        "        output.append(digit)\n",
        "\n",
        "    return ' '.join(output)"
      ],
      "metadata": {
        "id": "OJL3S4tjA3UJ"
      },
      "execution_count": 8,
      "outputs": []
    },
    {
      "cell_type": "code",
      "source": [
        "def format(first, second):\n",
        "    \"\"\" Generate an elaborate instruction for addition.\n",
        "    :param int first: the first addend\n",
        "    :param int second: the second addend\n",
        "    \"\"\"\n",
        "\n",
        "    return f'Calculate {convert_number(first)} plus {convert_number(second)} | {generate_instruction(first, second)}'"
      ],
      "metadata": {
        "id": "xEIxLk03HJ3V"
      },
      "execution_count": 9,
      "outputs": []
    },
    {
      "cell_type": "code",
      "source": [
        "def generate_file(filename, n_examples, min_digits, max_digits):\n",
        "    \"\"\"\n",
        "    Generate pairs of random numbers. \n",
        "    The datasets have a roughly equal proportion of d-digit numbers, \n",
        "    where d ∈ [min_digits, max_digits]. \n",
        "    Create lines with instructions and answers. \n",
        "    Save the lines to a file.\n",
        "    \"\"\"\n",
        "    with open(filename, 'w') as f:\n",
        "        for _ in range(n_examples):\n",
        "            example = []\n",
        "            for _ in range(2):\n",
        "                max_digits_i = random.randint(min_digits, max_digits)\n",
        "                min_number = int((max_digits_i - 1) * '9') + 1\n",
        "                max_number = int(max_digits_i * '9')\n",
        "                example.append(random.randint(min_number, max_number))\n",
        "            line = format(example[0], example[1])\n",
        "\n",
        "            f.write(f'{line}\\n')"
      ],
      "metadata": {
        "id": "Yozzq9D17zBR"
      },
      "execution_count": 10,
      "outputs": []
    },
    {
      "cell_type": "code",
      "source": [
        "generate_file('train_dataset.txt', n_examples=200, \n",
        "              min_digits=2, max_digits=30)"
      ],
      "metadata": {
        "id": "bpgYTPtpAJmA"
      },
      "execution_count": 11,
      "outputs": []
    },
    {
      "cell_type": "code",
      "source": [
        "generate_file('val_dataset.txt', n_examples=50, \n",
        "              min_digits=2, max_digits=30)"
      ],
      "metadata": {
        "id": "wQ5sBdoiJSXY"
      },
      "execution_count": 12,
      "outputs": []
    }
  ]
}